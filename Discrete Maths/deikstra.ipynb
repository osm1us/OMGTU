{
 "cells": [
  {
   "cell_type": "code",
   "execution_count": 19,
   "metadata": {},
   "outputs": [
    {
     "name": "stdout",
     "output_type": "stream",
     "text": [
      "Минимальный путь из 4 в 5: 49 (4 -> 2 -> 5)\n"
     ]
    }
   ],
   "source": [
    "import collections\n",
    "\n",
    "ribs = {\n",
    "    (1, 2): 41,\n",
    "    (1, 3): 80,\n",
    "    (1, 4): 23,\n",
    "    (1, 5): 32,\n",
    "    (2, 3): 45,\n",
    "    (2, 4): 12,\n",
    "    (2, 5): 37,\n",
    "    (3, 4): 50,\n",
    "    (3, 5): 64,\n",
    "    (4, 5): 67,\n",
    "}\n",
    "ribs.update({\n",
    "    (key[1], key[0]): value for key, value in ribs.items()\n",
    "})\n",
    "vertex_ribs = collections.defaultdict(list)\n",
    "for key, value in ribs.items():\n",
    "    vertex_ribs[key[0]].append((key[1], value))\n",
    "\n",
    "out_n = 4\n",
    "in_n = 5\n",
    "\n",
    "\n",
    "def recover_path(parent, out_n, in_n):\n",
    "    current = parent[in_n]\n",
    "    path = [current]\n",
    "    while current != out_n:\n",
    "        current = parent[current]\n",
    "        path.append(current)\n",
    "    return path[::-1] + [in_n]\n",
    "\n",
    "\n",
    "def deikstra_func(summ, current_vertex, end_vertex, pointed_vertices, min_lengths, parent):\n",
    "    pointed_vertices.add(current_vertex)\n",
    "    if current_vertex == end_vertex:\n",
    "        return min_lengths[end_vertex], parent\n",
    "    choice_vertex = []\n",
    "    for in_vertex, length in vertex_ribs[current_vertex]:\n",
    "        if in_vertex in pointed_vertices:\n",
    "            continue\n",
    "\n",
    "        choice_vertex.append((in_vertex, length))\n",
    "        \n",
    "        if in_vertex not in min_lengths:\n",
    "            parent[in_vertex] = current_vertex\n",
    "            min_lengths[in_vertex] = length\n",
    "        else:\n",
    "            total_length = summ + length\n",
    "            if total_length < min_lengths[in_vertex]:\n",
    "                parent[in_vertex] = current_vertex\n",
    "                min_lengths[in_vertex] = total_length\n",
    "        \n",
    "    min_vertex = min(choice_vertex, key=lambda x: x[1])\n",
    "    return deikstra_func(summ + min_vertex[1], min_vertex[0], end_vertex, pointed_vertices, min_lengths, parent)\n",
    "        \n",
    "\n",
    "result, parent = deikstra_func(0, out_n, in_n, set(), {}, {})\n",
    "path = recover_path(parent, out_n, in_n)\n",
    "print(f\"Минимальный путь из {out_n} в {in_n}: {result} ({' -> '.join([str(_) for _ in path])})\")"
   ]
  }
 ],
 "metadata": {
  "kernelspec": {
   "display_name": "Python 3",
   "language": "python",
   "name": "python3"
  },
  "language_info": {
   "codemirror_mode": {
    "name": "ipython",
    "version": 3
   },
   "file_extension": ".py",
   "mimetype": "text/x-python",
   "name": "python",
   "nbconvert_exporter": "python",
   "pygments_lexer": "ipython3",
   "version": "3.11.8"
  }
 },
 "nbformat": 4,
 "nbformat_minor": 2
}
