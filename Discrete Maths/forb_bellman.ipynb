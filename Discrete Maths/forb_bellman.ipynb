{
 "cells": [
  {
   "cell_type": "code",
   "execution_count": 23,
   "metadata": {},
   "outputs": [
    {
     "name": "stdout",
     "output_type": "stream",
     "text": [
      "Shortest distance: 2\n",
      "Shortest path: [1, 2, 5]\n"
     ]
    }
   ],
   "source": [
    "def ford_bellman(graph, start, end):\n",
    "    n = len(graph)\n",
    "    distance = [float('inf')] * n\n",
    "    parent = [-1] * n\n",
    "    distance[start] = 0\n",
    "\n",
    "    ribs = []\n",
    "    for _ in range(len(graph)):\n",
    "        for n in range(len(graph[_])):\n",
    "            if graph[_][n] != 0:\n",
    "                ribs.append((_, n, graph[_][n]))\n",
    "    \n",
    "    for _ in range(n - 1):\n",
    "        for r in ribs:\n",
    "            if distance[r[0]] + r[2] < distance[r[1]]:\n",
    "                distance[r[1]] = distance[r[0]] + r[2]\n",
    "                parent[r[1]] = r[0]\n",
    "\n",
    "    for r in ribs:\n",
    "        if distance[r[0]] + r[2] < distance[r[1]]:\n",
    "            raise Exception(\"Graph contains negative cycle\")\n",
    "\n",
    "    path = []\n",
    "    current = end\n",
    "    while current != -1:\n",
    "        path.insert(0, current + 1)\n",
    "        current = parent[current]\n",
    "\n",
    "    return distance[end], path\n",
    "\n",
    "# Graph with negative cycle\n",
    "# weight_matrix = [\n",
    "#     [0, 4, 4, 0, 0, 0, 0, 0],\n",
    "#     [0, 0, 0, 0, 0, 0, 0, 0],\n",
    "#     [0, 0, 0, 0, 4, -2, 0, 0],\n",
    "#     [3, 0, 2, 0, 0, 0, 0, 0],\n",
    "#     [0, 0, 0, 1, 0, 0, -2, 0],\n",
    "#     [0, 3, 0, 0, -3, 0, 0, 0],\n",
    "#     [0, 0, 0, 0, 0, 2, 0, 2],\n",
    "#     [0, 0, 0, 0, -2, 0, 0, 0]\n",
    "# ]\n",
    "\n",
    "weight_matrix = [\n",
    "    [0, 1, 0, 0, 3],\n",
    "    [0, 0, 8, 7, 1],\n",
    "    [0, 0, 0, 1, -5],\n",
    "    [0, 0, 2, 0, 0],\n",
    "    [0, 0, 0, 4, 0]\n",
    "]\n",
    "start_vertex = int(input(\"Start vertex: \")) - 1\n",
    "end_vertex = int(input(\"End vertex: \")) - 1\n",
    "distance, path = ford_bellman(weight_matrix, start_vertex, end_vertex)\n",
    "print(\"Shortest distance:\", distance)\n",
    "print(\"Shortest path:\", path)"
   ]
  }
 ],
 "metadata": {
  "kernelspec": {
   "display_name": "Python 3",
   "language": "python",
   "name": "python3"
  },
  "language_info": {
   "codemirror_mode": {
    "name": "ipython",
    "version": 3
   },
   "file_extension": ".py",
   "mimetype": "text/x-python",
   "name": "python",
   "nbconvert_exporter": "python",
   "pygments_lexer": "ipython3",
   "version": "3.9.13"
  }
 },
 "nbformat": 4,
 "nbformat_minor": 2
}
