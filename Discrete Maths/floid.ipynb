{
 "cells": [
  {
   "cell_type": "code",
   "execution_count": 49,
   "metadata": {},
   "outputs": [
    {
     "name": "stdout",
     "output_type": "stream",
     "text": [
      "Result weight martrix:\n",
      "#\t0\t1\t2\t3\n",
      "0\t0\t5\t3\t8\n",
      "1\t-5\t0\t-2\t3\n",
      "2\t-3\t2\t0\t5\n",
      "3\t-8\t-3\t-5\t0\n",
      "Path between 0 and 2: 0 -> 1 -> 3 -> 2\n"
     ]
    }
   ],
   "source": [
    "import copy\n",
    "\n",
    "\n",
    "def floid(weight_matrix, start_vertex, end_vertex):\n",
    "    A = copy.deepcopy(weight_matrix)\n",
    "    N = len(A)\n",
    "\n",
    "    middle_vertex = [[None for j in range(N)] for i in range(N)]\n",
    "\n",
    "    for k in range(N):\n",
    "        for i in range(N):\n",
    "            for j in range(N):\n",
    "                summ = A[i][k] + A[k][j]\n",
    "                if summ < A[i][j]:\n",
    "                    A[i][j] = summ\n",
    "                    middle_vertex[i][j] = k\n",
    "    path = []\n",
    "    current = start_vertex\n",
    "    while True:\n",
    "        start = current\n",
    "        current = middle_vertex[current][end_vertex]\n",
    "        if not current:\n",
    "            break\n",
    "        p = [current]\n",
    "        v = current\n",
    "        while True:\n",
    "            if middle_vertex[start][v]:\n",
    "                v = middle_vertex[start][v]\n",
    "                p.insert(0, v)\n",
    "            else:\n",
    "                break\n",
    "        path += p\n",
    "    path.insert(0, start_vertex)\n",
    "    path.append(end_vertex)\n",
    "    return A, path\n",
    "\n",
    "\n",
    "INF = 10e9\n",
    "weight_matrix = [\n",
    "    [0, 5, INF, INF],\n",
    "    [INF, 0, 5, 3],\n",
    "    [-3, INF, 0, INF],\n",
    "    [2, INF, -5, INF],\n",
    "]\n",
    "start_vertex = int(input())\n",
    "end_vertex = int(input())\n",
    "result_matrix, path = floid(weight_matrix, start_vertex, end_vertex)\n",
    "\n",
    "preview_result_matrix = [[_] + result_matrix[_] for _ in range(len(result_matrix))]\n",
    "preview_result_matrix.insert(0, ['#'] + [str(n) for n in range(len(result_matrix))])\n",
    "preview_result_matrix = \"\\n\".join([\"\\t\".join([str(i) for i in _]) for _ in preview_result_matrix])\n",
    "\n",
    "preview_path = \" -> \".join([str(_) for _ in path])\n",
    "\n",
    "print(\"Result weight martrix:\\n%s\" % preview_result_matrix)\n",
    "print(f\"Path between %s and %s: %s\" % (start_vertex, end_vertex, preview_path))"
   ]
  }
 ],
 "metadata": {
  "kernelspec": {
   "display_name": "Python 3",
   "language": "python",
   "name": "python3"
  },
  "language_info": {
   "codemirror_mode": {
    "name": "ipython",
    "version": 3
   },
   "file_extension": ".py",
   "mimetype": "text/x-python",
   "name": "python",
   "nbconvert_exporter": "python",
   "pygments_lexer": "ipython3",
   "version": "3.9.13"
  }
 },
 "nbformat": 4,
 "nbformat_minor": 2
}
