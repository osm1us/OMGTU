{
 "cells": [
  {
   "cell_type": "code",
   "execution_count": 61,
   "metadata": {},
   "outputs": [],
   "source": [
    "def func(str_input):\n",
    "    words = str_input.split()\n",
    "    output_words = []\n",
    "    for word in words:\n",
    "        l_word = list(word)\n",
    "        output_word = []\n",
    "        word_k = abs(len(word) % 2 - 1)\n",
    "        for _ in range(len(word)):\n",
    "            if (_ + word_k) % 2 == 0:\n",
    "                output_word.append(l_word.pop())\n",
    "            else:\n",
    "                output_word.append(l_word.pop(0))\n",
    "        output_words.append(\"\".join(list(reversed(output_word))))\n",
    "    output_words_k = abs(len(output_words) % 2 - 1)\n",
    "    output = []\n",
    "    for _ in range(len(output_words)):\n",
    "        if (_ + output_words_k) % 2 == 0:\n",
    "            output.append(output_words.pop())\n",
    "        else:\n",
    "            output.append(output_words.pop(0))\n",
    "    return \" \".join(reversed(output))"
   ]
  },
  {
   "cell_type": "code",
   "execution_count": 62,
   "metadata": {},
   "outputs": [
    {
     "name": "stdout",
     "output_type": "stream",
     "text": [
      "Eto frasa pervogo primera Eto frasa pervogo primera\n",
      "qwerty asdfg zxcv qwerty asdfg zxcv\n",
      "qwerty qwerty\n",
      "yqpUNJMICqLqvRCtEnTDIlfI FtwPMPzfrdQdQehMeMdFdiko KoMWzJIRiVleXJsCgcZfpucy oGTeiooJCSXEjOiVnhjkDMzO UxsrsBzVdqSaNIjfVKzCgTUf epOJzmTZAHDXXEJJrkaCKKZO JjZlGxJqCCfWMGhfmETPLkwu zYUORobThhhzAobQEmayOrHi JxQADxnetsEuTtFanjKcDiTY dyRedwptVitqOIroKkRSLbpa yqpUNJMICqLqvRCtEnTDIlfI FtwPMPzfrdQdQehMeMdFdiko KoMWzJIRiVleXJsCgcZfpucy oGTeiooJCSXEjOiVnhjkDMzO UxsrsBzVdqSaNIjfVKzCgTUf epOJzmTZAHDXXEJJrkaCKKZO JjZlGxJqCCfWMGhfmETPLkwu zYUORobThhhzAobQEmayOrHi JxQADxnetsEuTtFanjKcDiTY dyRedwptVitqOIroKkRSLbpa\n",
      "z z\n",
      "XL MF Hy aS tB Qt AN po ZM Nr hc Hs ch IQ jI An Au kT Xp fy Mq Gj Aw pA RF Fn la pn fp ra yp Cf Eg jq yB JS HG dm Ef AH UD wb dm Ub Xd ee qr zw cF Lx FI IN kC KA XO HZ zg ue jh lV YY me yG lw Vw dc qW NX xv PL qk ZY YF pw Sf BJ Rf OE Nt my bT zJ yL Uk fI XL MF Hy aS tB Qt AN po ZM Nr hc Hs ch IQ jI An Au kT Xp fy Mq Gj Aw pA RF Fn la pn fp ra yp Cf Eg jq yB JS HG dm Ef AH UD wb dm Ub Xd ee qr zw cF Lx FI IN kC KA XO HZ zg ue jh lV YY me yG lw Vw dc qW NX xv PL qk ZY YF pw Sf BJ Rf OE Nt my bT zJ yL Uk fI\n",
      "yRqADHdwskGnyNbMVpDIvBCzhvRHZBPZncCOGslpaihpKBeDVrclIGZVXsIJtAzrXlDftMCfFXsETqowYkeEKGwnMZAUndGNKZErFTeMqRScTZsVcRARVWzXfQIYFoK FLIVSLQNqpOwRMNLzvYKiyEvVJuGQmKQvrHfOhgSPbasRFnDGwtpDTyTqxLikjcWytkUyffjIFnODOCrjxtEnSuShxghhlGUtWgaWgLEBQEMvaCmEfHWeqaNYpYeYdN yRqADHdwskGnyNbMVpDIvBCzhvRHZBPZncCOGslpaihpKBeDVrclIGZVXsIJtAzrXlDftMCfFXsETqowYkeEKGwnMZAUndGNKZErFTeMqRScTZsVcRARVWzXfQIYFoK FLIVSLQNqpOwRMNLzvYKiyEvVJuGQmKQvrHfOhgSPbasRFnDGwtpDTyTqxLikjcWytkUyffjIFnODOCrjxtEnSuShxghhlGUtWgaWgLEBQEMvaCmEfHWeqaNYpYeYdN\n",
      "G K o h K r s e j H z G f j f t h H b m V O p z w H X P O K M Z U S F y k z z A t q t d p T M W x c T a d Q P x d w I F Y X q E K O Z J f R F U u g j H f W G R k d I q E p L l M S J m T q s d S k q u f p J N z E h k n q l X x Q a K r R q B P s q U d f d G G K o h K r s e j H z G f j f t h H b m V O p z w H X P O K M Z U S F y k z z A t q t d p T M W x c T a d Q P x d w I F Y X q E K O Z J f R F U u g j H f W G R k d I q E p L l M S J m T q s d S k q u f p J N z E h k n q l X x Q a K r R q B P s q U d f d G\n",
      "xGepPSLLeIzBnLlTeWyeaUQuENdPLLOwgYPpeDawzuiyHVxGylpavqHZwtxqWHRPmKuuKhvRRXWyWipPCZZwDfBBMhUGENxdLepjcsVNQYlhJqGQREwdONyeQRvSJDwSvOmThmxdoWjQzJvsFPdHfsUyAHANWKKmHXLlTOadWjpwisNJBWpRyfMBOgIHQzmacpvoauvLabIpWaOXpRZcRdovDpLdPAZbhhIlBDsaYNBXDpzBwdOjAzfYpLwKDiT xGepPSLLeIzBnLlTeWyeaUQuENdPLLOwgYPpeDawzuiyHVxGylpavqHZwtxqWHRPmKuuKhvRRXWyWipPCZZwDfBBMhUGENxdLepjcsVNQYlhJqGQREwdONyeQRvSJDwSvOmThmxdoWjQzJvsFPdHfsUyAHANWKKmHXLlTOadWjpwisNJBWpRyfMBOgIHQzmacpvoauvLabIpWaOXpRZcRdovDpLdPAZbhhIlBDsaYNBXDpzBwdOjAzfYpLwKDiT\n"
     ]
    }
   ],
   "source": [
    "import os\n",
    "\n",
    "paths = os.listdir(\"tests\")\n",
    "inputs = paths[:len(paths) // 2]\n",
    "outputs = paths[len(paths) // 2:]\n",
    "\n",
    "for _ in range(len(inputs)):\n",
    "    with open(f\"./tests/{inputs[_]}\", mode=\"rt\") as input_f:\n",
    "        with open(f\"./tests/{outputs[_]}\", mode=\"rt\") as output_f:\n",
    "            input_str = input_f.readline()\n",
    "            output = func(input_str)\n",
    "            correct_output = output_f.readline()\n",
    "            if output != correct_output:\n",
    "                print(\"\\033[93m\" + f\"Ошибка в {_} тесте: {output} != {correct_output}\" + \"\\033[0m\")\n",
    "            else:\n",
    "                print(output, correct_output)"
   ]
  }
 ],
 "metadata": {
  "kernelspec": {
   "display_name": "Python 3",
   "language": "python",
   "name": "python3"
  },
  "language_info": {
   "codemirror_mode": {
    "name": "ipython",
    "version": 3
   },
   "file_extension": ".py",
   "mimetype": "text/x-python",
   "name": "python",
   "nbconvert_exporter": "python",
   "pygments_lexer": "ipython3",
   "version": "3.11.8"
  }
 },
 "nbformat": 4,
 "nbformat_minor": 2
}
