{
 "cells": [
  {
   "cell_type": "code",
   "execution_count": null,
   "metadata": {},
   "outputs": [],
   "source": [
    "def gears_func(gears_dict, gears_conn, result_gears_conn, rotation_dir):\n",
    "    pass"
   ]
  },
  {
   "cell_type": "code",
   "execution_count": null,
   "metadata": {},
   "outputs": [],
   "source": [
    "import os\n",
    "\n",
    "paths = os.listdir('tests')\n",
    "inputs = paths[:len(paths) // 2]\n",
    "outputs = paths[len(paths) // 2:]\n",
    "\n",
    "for _ in range(len(paths) // 2):\n",
    "    with open(f'tests/{inputs[_]}') as input_f:\n",
    "        with open(f'tests/{outputs[_]}') as output_f:\n",
    "            N, M = [int(_) for _ in input_f.readline().split()]\n",
    "            gears_dict = {}\n",
    "            for _ in range(N):\n",
    "                i, z = [int(_) for _ in input_f.readline().split()]\n",
    "                gears_dict[i] = z\n",
    "            gears_conn = []\n",
    "            for _ in range(M):\n",
    "                gears_conn.append([int(_) for _ in input_f.readline().split()])\n",
    "            result_gears_conn = [int(_) for _ in input_f.readline().split()]\n",
    "            rotation_dir = int(input_f.readline())"
   ]
  }
 ],
 "metadata": {
  "language_info": {
   "name": "python"
  }
 },
 "nbformat": 4,
 "nbformat_minor": 2
}
