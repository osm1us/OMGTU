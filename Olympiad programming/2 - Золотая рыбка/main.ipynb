{
 "cells": [
  {
   "cell_type": "code",
   "execution_count": 8,
   "metadata": {},
   "outputs": [],
   "source": [
    "def func(words, start_chars, end_chars):\n",
    "    start_count = sum(\n",
    "        min(sum(1 for word in words if word.startswith(letter)), count) for letter, count in start_chars.items())\n",
    "    finish_count = sum(\n",
    "        min(sum(1 for word in words if word.endswith(letter)), count) for letter, count in end_chars.items())\n",
    "\n",
    "    result = min(start_count, finish_count)\n",
    "\n",
    "    return result"
   ]
  },
  {
   "cell_type": "code",
   "execution_count": 9,
   "metadata": {},
   "outputs": [
    {
     "name": "stdout",
     "output_type": "stream",
     "text": [
      "Все верно для 1 теста: 4 == 4\n",
      "Все верно для 2 теста: 4 == 4\n",
      "Все верно для 3 теста: 5 == 5\n",
      "Все верно для 4 теста: 0 == 0\n",
      "Все верно для 5 теста: 6 == 6\n",
      "Все верно для 6 теста: 6 == 6\n",
      "Все верно для 7 теста: 3 == 3\n",
      "Все верно для 8 теста: 0 == 0\n",
      "Все верно для 9 теста: 0 == 0\n",
      "Все верно для 10 теста: 1000 == 1000\n",
      "\u001b[93mОшибка в 11 тесте: 2778 != 2726\u001b[0m\n",
      "\u001b[93mОшибка в 12 тесте: 7930 != 7575\u001b[0m\n",
      "\u001b[93mОшибка в 13 тесте: 6545 != 6063\u001b[0m\n"
     ]
    }
   ],
   "source": [
    "import os\n",
    "\n",
    "paths = os.listdir(\"tests\")\n",
    "inputs = paths[:len(paths) // 2]\n",
    "outputs = paths[len(paths) // 2:]\n",
    "\n",
    "for _ in range(len(inputs)):\n",
    "    with open(f\"./tests/{inputs[_]}\", mode=\"rt\") as input_f:\n",
    "        with open(f\"./tests/{outputs[_]}\", mode=\"rt\") as output_f:\n",
    "            N = int(input_f.readline())\n",
    "            words = [input_f.readline().strip() for n in range(N)]\n",
    "            F = int(input_f.readline())\n",
    "            start_chars = {}\n",
    "            for f in range(F):\n",
    "                st = input_f.readline().split()\n",
    "                start_chars[st[0]] = int(st[1])\n",
    "            L = int(input_f.readline())\n",
    "            end_chars = {}\n",
    "            for l in range(L):\n",
    "                st = input_f.readline().split()\n",
    "                end_chars[st[0]] = int(st[1])\n",
    "            output = func(words, start_chars, end_chars)\n",
    "            correct_output = int(output_f.readline())\n",
    "            if output != correct_output:\n",
    "                print(\"\\033[93m\" + f\"Ошибка в {_ + 1} тесте: {output} != {correct_output}\" + \"\\033[0m\")\n",
    "            else:\n",
    "                print(f\"Все верно для {_ + 1} теста: {output} == {correct_output}\")"
   ]
  }
 ],
 "metadata": {
  "kernelspec": {
   "display_name": "Python 3",
   "language": "python",
   "name": "python3"
  },
  "language_info": {
   "codemirror_mode": {
    "name": "ipython",
    "version": 3
   },
   "file_extension": ".py",
   "mimetype": "text/x-python",
   "name": "python",
   "nbconvert_exporter": "python",
   "pygments_lexer": "ipython3",
   "version": "3.9.13"
  }
 },
 "nbformat": 4,
 "nbformat_minor": 2
}
