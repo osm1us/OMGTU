{
 "cells": [
  {
   "cell_type": "code",
   "execution_count": 49,
   "metadata": {},
   "outputs": [],
   "source": [
    "def func(operations, req_result):\n",
    "    xs = 1\n",
    "    summ = 0\n",
    "    for operation, operand in [op.split() for op in operations]:\n",
    "        if operand != \"x\":\n",
    "            operand = int(operand)\n",
    "        if operation == \"+\":\n",
    "            if operand == \"x\":\n",
    "                xs += 1\n",
    "            else:\n",
    "                summ += operand\n",
    "        elif operation == \"-\":\n",
    "            if operand == \"x\":\n",
    "                xs -= 1\n",
    "            else:\n",
    "                summ -= operand\n",
    "        elif operation == \"*\":\n",
    "            summ *= operand\n",
    "            xs *= operand\n",
    "        elif operation == \"/\":\n",
    "            summ /= operand\n",
    "            xs /= operand\n",
    "    return int((req_result - summ) / xs)\n",
    "                "
   ]
  },
  {
   "cell_type": "code",
   "execution_count": 51,
   "metadata": {},
   "outputs": [
    {
     "name": "stdout",
     "output_type": "stream",
     "text": [
      "Все верно для 1 теста: 3 == 3\n",
      "Все верно для 2 теста: 5 == 5\n",
      "Все верно для 3 теста: 4 == 4\n",
      "Все верно для 4 теста: 2 == 2\n",
      "Все верно для 5 теста: -5 == -5\n",
      "Все верно для 6 теста: -3 == -3\n",
      "Все верно для 7 теста: -2 == -2\n",
      "Все верно для 8 теста: 0 == 0\n",
      "Все верно для 9 теста: -70 == -70\n",
      "Все верно для 10 теста: -12 == -12\n",
      "Все верно для 11 теста: 5 == 5\n",
      "Все верно для 12 теста: 0 == 0\n"
     ]
    }
   ],
   "source": [
    "import os\n",
    "\n",
    "paths = os.listdir(\"tests\")\n",
    "inputs = paths[:len(paths) // 2]\n",
    "outputs = paths[len(paths) // 2:]\n",
    "\n",
    "for _ in range(len(inputs)):\n",
    "    with open(f\"./tests/{inputs[_]}\", mode=\"rt\") as input_f:\n",
    "        with open(f\"./tests/{outputs[_]}\", mode=\"rt\") as output_f:\n",
    "            input_f.readline()\n",
    "\n",
    "            data = input_f.readlines()\n",
    "            operations = [_.strip() for _ in data[:-1]]\n",
    "            req_result = int(data[-1])\n",
    "            output = func(operations, req_result)\n",
    "            correct_output = int(output_f.readline())\n",
    "            if output != correct_output:\n",
    "                print(\"\\033[93m\" + f\"Ошибка в {_ + 1} тесте: {output} != {correct_output}\" + \"\\033[0m\")\n",
    "            else:\n",
    "                print(f\"Все верно для {_ + 1} теста: {output} == {correct_output}\")"
   ]
  }
 ],
 "metadata": {
  "kernelspec": {
   "display_name": "Python 3",
   "language": "python",
   "name": "python3"
  },
  "language_info": {
   "codemirror_mode": {
    "name": "ipython",
    "version": 3
   },
   "file_extension": ".py",
   "mimetype": "text/x-python",
   "name": "python",
   "nbconvert_exporter": "python",
   "pygments_lexer": "ipython3",
   "version": "3.9.13"
  }
 },
 "nbformat": 4,
 "nbformat_minor": 2
}
